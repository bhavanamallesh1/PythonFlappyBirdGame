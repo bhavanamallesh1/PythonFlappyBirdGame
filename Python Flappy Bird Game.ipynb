import pygame
import sys
import random

pygame.init()

# Game settings
WIDTH = 400
HEIGHT = 600
FPS = 60
gravity = 0.25
bird_movement = 0
bird_flap = -6
pipe_speed = 3

# Colors
white = (255, 255, 255)
black = (0, 0, 0)

# Create the game window
screen = pygame.display.set_mode((WIDTH, HEIGHT))
pygame.display.set_caption("Flappy Bird")

# Load assets
bird_img = pygame.image.load("bird.png")
bird_rect = bird_img.get_rect(center=(100, HEIGHT / 2))

pipe_img = pygame.image.load("pipe.png")
pipe_list = []

SPAWNPIPE = pygame.USEREVENT
pygame.time.set_timer(SPAWNPIPE, 1200)

def draw_floor():
    screen.blit(floor_surface, (floor_x_pos, 450))
    screen.blit(floor_surface, (floor_x_pos + WIDTH, 450))

# Main game loop
running = True
while running:
    for event in pygame.event.get():
        if event.type == pygame.QUIT:
            running = False
        if event.type == pygame.KEYDOWN:
            if event.key == pygame.K_SPACE:
                bird_movement = bird_flap
        if event.type == SPAWNPIPE:
            pipe_list.append(pipe_img.get_rect(midtop=(WIDTH, random.randint(150, 400))))

    # Bird
    bird_movement += gravity
    bird_rect.centery += bird_movement
    screen.blit(bird_img, bird_rect)

    # Pipes
    pipe_list = [pipe for pipe in pipe_list if pipe.right > 0]
    for pipe in pipe_list:
        pipe.centerx -= pipe_speed
        screen.blit(pipe_img, pipe)

    # Floor
    floor_x_pos -= 1
    draw_floor()
    if floor_x_pos <= -WIDTH:
        floor_x_pos = 0

    pygame.display.update()
    pygame.time.Clock().tick(FPS)

pygame.quit()
sys.exit()
